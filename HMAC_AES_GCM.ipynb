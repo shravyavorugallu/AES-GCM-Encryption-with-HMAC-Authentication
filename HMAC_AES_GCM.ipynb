{
  "nbformat": 4,
  "nbformat_minor": 0,
  "metadata": {
    "colab": {
      "provenance": []
    },
    "kernelspec": {
      "name": "python3",
      "display_name": "Python 3"
    },
    "language_info": {
      "name": "python"
    }
  },
  "cells": [
    {
      "cell_type": "markdown",
      "source": [
        "I'll create a Python script implementing the AES block cipher in GCM (Galois/Counter Mode). AES-GCM is a widely used encryption mode because it provides both confidentiality and integrity, making it suitable for secure communication. I'll include comments explaining each part of the code, and acknowledgments\n",
        "\n",
        "Description\n",
        "This Python script uses the AES block cipher in GCM mode to encrypt and decrypt an English text string. AES-GCM is an authenticated encryption mode, meaning it ensures both data confidentiality and integrity. The script will demonstrate both encryption and decryption of a sample text. It uses the PyCryptodome library, which simplifies AES-GCM implementation and management of cryptographic keys and nonces.\n",
        "\n",
        "Acknowledgments\n",
        "I used PyCryptodome's documentation for implementing AES in GCM mode and followed general cryptographic best practices.\n",
        "\n",
        "Steps:\n",
        "Install PyCryptodome: Run pip install pycryptodome if you haven't already.\n",
        "Execute the script: This script encrypts a message and then decrypts it, printing both the encrypted and decrypted text for verification."
      ],
      "metadata": {
        "id": "RT6aamefGquZ"
      }
    },
    {
      "cell_type": "markdown",
      "source": [
        "This Python script demonstrates the combination of AES-GCM encryption and HMAC for additional message authentication. Here's how it works:\n",
        "\n",
        "The sender encrypts a plaintext message using AES-GCM, producing a ciphertext, nonce, and AES-GCM tag.\n",
        "The sender computes an HMAC over the ciphertext using a separate key.\n",
        "The receiver verifies the HMAC before attempting to decrypt the ciphertext. If the HMAC validation fails, the decryption step is skipped."
      ],
      "metadata": {
        "id": "tx0UcjOZ7XMX"
      }
    },
    {
      "cell_type": "markdown",
      "source": [
        "Acknowledgments\n",
        "This implementation uses:\n",
        "\n",
        "The PyCryptodome library for AES-GCM encryption and HMAC computation.\n",
        "Cryptographic best practices inspired by PyCryptodome's documentation and standard message authentication protocols."
      ],
      "metadata": {
        "id": "NKatrKBg7c6w"
      }
    },
    {
      "cell_type": "code",
      "source": [
        "pip install pycryptodome"
      ],
      "metadata": {
        "colab": {
          "base_uri": "https://localhost:8080/"
        },
        "id": "Nu2BnnAXFHMU",
        "outputId": "f02bc2a4-a63e-4f1c-eb70-98613572c35c"
      },
      "execution_count": null,
      "outputs": [
        {
          "output_type": "stream",
          "name": "stdout",
          "text": [
            "Collecting pycryptodome\n",
            "  Downloading pycryptodome-3.21.0-cp36-abi3-manylinux_2_17_x86_64.manylinux2014_x86_64.whl.metadata (3.4 kB)\n",
            "Downloading pycryptodome-3.21.0-cp36-abi3-manylinux_2_17_x86_64.manylinux2014_x86_64.whl (2.3 MB)\n",
            "\u001b[2K   \u001b[90m━━━━━━━━━━━━━━━━━━━━━━━━━━━━━━━━━━━━━━━━\u001b[0m \u001b[32m2.3/2.3 MB\u001b[0m \u001b[31m18.8 MB/s\u001b[0m eta \u001b[36m0:00:00\u001b[0m\n",
            "\u001b[?25hInstalling collected packages: pycryptodome\n",
            "Successfully installed pycryptodome-3.21.0\n"
          ]
        }
      ]
    },
    {
      "cell_type": "code",
      "execution_count": null,
      "metadata": {
        "colab": {
          "base_uri": "https://localhost:8080/"
        },
        "id": "F4YxOa2FE47D",
        "outputId": "108a5784-4855-48ed-a94a-ee3949f71945"
      },
      "outputs": [
        {
          "output_type": "stream",
          "name": "stdout",
          "text": [
            "Original Text: Hello, this is a secure message.\n",
            "Encrypted (hex): c7400d83e068ee2f526df999451260ee1ae5b2d7221f3d22bdf5a615c26b30ff\n",
            "HMAC (hex): e2149abd0926905972d21f45f41593b2058aa47dc395c94112f91ff3681658a1\n",
            "HMAC verified successfully.\n",
            "Decrypted Text: Hello, this is a secure message.\n"
          ]
        }
      ],
      "source": [
        "# YourLastName-HMAC-AES-GCM.py\n",
        "# This script combines AES-GCM encryption with HMAC-based message authentication.\n",
        "# Requirements: PyCryptodome library.\n",
        "# Acknowledgments: PyCryptodome documentation for AES-GCM and HMAC.\n",
        "\n",
        "from Crypto.Cipher import AES\n",
        "from Crypto.Random import get_random_bytes\n",
        "from Crypto.Hash import HMAC, SHA256\n",
        "\n",
        "# Encrypt the plaintext using AES-GCM\n",
        "def aes_gcm_encrypt(plaintext, aes_key):\n",
        "    nonce = get_random_bytes(12)  # Generate a random nonce\n",
        "    cipher = AES.new(aes_key, AES.MODE_GCM, nonce=nonce)\n",
        "    ciphertext, aes_tag = cipher.encrypt_and_digest(plaintext.encode('utf-8'))\n",
        "    return nonce, ciphertext, aes_tag\n",
        "\n",
        "# Decrypt the ciphertext using AES-GCM\n",
        "def aes_gcm_decrypt(nonce, ciphertext, aes_tag, aes_key):\n",
        "    cipher = AES.new(aes_key, AES.MODE_GCM, nonce=nonce)\n",
        "    try:\n",
        "        plaintext = cipher.decrypt_and_verify(ciphertext, aes_tag)\n",
        "        return plaintext.decode('utf-8')\n",
        "    except ValueError:\n",
        "        return \"Decryption failed or data was tampered with.\"\n",
        "\n",
        "# Generate HMAC tag for ciphertext\n",
        "def generate_hmac(ciphertext, hmac_key):\n",
        "    h = HMAC.new(hmac_key, digestmod=SHA256)\n",
        "    h.update(ciphertext)\n",
        "    return h.digest()\n",
        "\n",
        "# Verify the HMAC tag for ciphertext\n",
        "def verify_hmac(ciphertext, hmac_key, hmac_tag):\n",
        "    h = HMAC.new(hmac_key, digestmod=SHA256)\n",
        "    h.update(ciphertext)\n",
        "    try:\n",
        "        h.verify(hmac_tag)\n",
        "        return True\n",
        "    except ValueError:\n",
        "        return False\n",
        "\n",
        "# Example usage\n",
        "if __name__ == \"__main__\":\n",
        "    # Generate random keys for AES and HMAC\n",
        "    aes_key = get_random_bytes(16)  # AES-128 key\n",
        "    hmac_key = get_random_bytes(16)  # HMAC key\n",
        "\n",
        "    plaintext = \"Hello, this is a secure message.\"\n",
        "    print(\"Original Text:\", plaintext)\n",
        "\n",
        "    # Step 1: Encrypt the plaintext with AES-GCM\n",
        "    nonce, ciphertext, aes_tag = aes_gcm_encrypt(plaintext, aes_key)\n",
        "    print(\"Encrypted (hex):\", ciphertext.hex())\n",
        "\n",
        "    # Step 2: Generate HMAC for the ciphertext\n",
        "    hmac_tag = generate_hmac(ciphertext, hmac_key)\n",
        "    print(\"HMAC (hex):\", hmac_tag.hex())\n",
        "\n",
        "    # Step 3: Verify HMAC and decrypt if valid\n",
        "    if verify_hmac(ciphertext, hmac_key, hmac_tag):\n",
        "        print(\"HMAC verified successfully.\")\n",
        "        decrypted_text = aes_gcm_decrypt(nonce, ciphertext, aes_tag, aes_key)\n",
        "        print(\"Decrypted Text:\", decrypted_text)\n",
        "    else:\n",
        "        print(\"HMAC verification failed. Decryption skipped.\")\n"
      ]
    },
    {
      "cell_type": "markdown",
      "source": [
        "Setup Instructions\n",
        "Install the required library:\n",
        "bash\n",
        "Copy code\n",
        "pip install pycryptodome\n",
        "Save the script as YourLastName-HMAC-AES-GCM.py (replace YourLastName with your actual last name).\n",
        "Run the script, which will:\n",
        "Encrypt a plaintext message using AES-GCM.\n",
        "Compute an HMAC tag for the ciphertext.\n",
        "Verify the HMAC tag and decrypt the ciphertext if valid."
      ],
      "metadata": {
        "id": "0ND_apGL71Wq"
      }
    },
    {
      "cell_type": "markdown",
      "source": [
        "How It Works\n",
        "Encryption:\n",
        "AES-GCM generates a ciphertext, a nonce, and an AES tag for encryption.\n",
        "HMAC computes an authentication tag using the ciphertext.\n",
        "Authentication:\n",
        "The HMAC tag ensures the ciphertext has not been tampered with.\n",
        "If the HMAC verification fails, decryption is skipped to avoid unauthorized access.\n",
        "Decryption:\n",
        "The receiver decrypts the ciphertext only if the HMAC tag is valid, ensuring data integrity and authenticity."
      ],
      "metadata": {
        "id": "s1nBGnlM72mF"
      }
    }
  ]
}